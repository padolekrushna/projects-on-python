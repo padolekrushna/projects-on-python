{
  "cells": [
    {
      "cell_type": "markdown",
      "metadata": {
        "id": "view-in-github",
        "colab_type": "text"
      },
      "source": [
        "<a href=\"https://colab.research.google.com/github/padolekrushna/projects-on-python/blob/main/TCS_Smart_Hiring_Practice.ipynb\" target=\"_parent\"><img src=\"https://colab.research.google.com/assets/colab-badge.svg\" alt=\"Open In Colab\"/></a>"
      ]
    },
    {
      "cell_type": "code",
      "execution_count": null,
      "id": "59078fb6",
      "metadata": {
        "id": "59078fb6"
      },
      "outputs": [],
      "source": [
        "# TCS Smart Hiring 2025 - Python Coding Practice"
      ]
    },
    {
      "cell_type": "code",
      "execution_count": 1,
      "id": "6b29728f",
      "metadata": {
        "id": "6b29728f"
      },
      "outputs": [],
      "source": [
        "# 1. Reverse a Number\n",
        "def reverse_number(n):\n",
        "    return int(str(n)[::-1])"
      ]
    },
    {
      "cell_type": "code",
      "execution_count": null,
      "id": "8b6907f5",
      "metadata": {
        "id": "8b6907f5"
      },
      "outputs": [],
      "source": [
        "# 2. Check if a Number is Prime\n",
        "def is_prime(n):\n",
        "    if n < 2:\n",
        "        return \"Not Prime\"\n",
        "    for i in range(2, int(n**0.5) + 1):\n",
        "        if n % i == 0:\n",
        "            return \"Not Prime\"\n",
        "    return \"Prime\""
      ]
    },
    {
      "cell_type": "code",
      "execution_count": null,
      "id": "9bc25da5",
      "metadata": {
        "id": "9bc25da5"
      },
      "outputs": [],
      "source": [
        "# 3. Find the Second Largest Number in an Array\n",
        "def second_largest(arr):\n",
        "    unique_arr = list(set(arr))\n",
        "    unique_arr.sort()\n",
        "    return unique_arr[-2] if len(unique_arr) > 1 else \"No second largest\""
      ]
    },
    {
      "cell_type": "code",
      "execution_count": null,
      "id": "eefbd3ee",
      "metadata": {
        "id": "eefbd3ee"
      },
      "outputs": [],
      "source": [
        "# 4. Fibonacci Series up to N\n",
        "def fibonacci(n):\n",
        "    a, b = 0, 1\n",
        "    for _ in range(n):\n",
        "        print(a, end=\" \")\n",
        "        a, b = b, a + b\n",
        "    print()"
      ]
    },
    {
      "cell_type": "code",
      "execution_count": null,
      "id": "d9ec2c5a",
      "metadata": {
        "id": "d9ec2c5a"
      },
      "outputs": [],
      "source": [
        "# 5. Count Vowels in a String\n",
        "def count_vowels(s):\n",
        "    vowels = \"aeiouAEIOU\"\n",
        "    return sum(1 for char in s if char in vowels)"
      ]
    },
    {
      "cell_type": "code",
      "execution_count": null,
      "id": "36ced14d",
      "metadata": {
        "id": "36ced14d"
      },
      "outputs": [],
      "source": [
        "# 6. Check for Palindrome\n",
        "def is_palindrome(s):\n",
        "    return \"Yes\" if s == s[::-1] else \"No\""
      ]
    },
    {
      "cell_type": "code",
      "execution_count": null,
      "id": "8b00a0e0",
      "metadata": {
        "id": "8b00a0e0"
      },
      "outputs": [],
      "source": [
        "# 7. Sum of Digits\n",
        "def sum_of_digits(n):\n",
        "    return sum(int(digit) for digit in str(n))"
      ]
    },
    {
      "cell_type": "code",
      "execution_count": null,
      "id": "528678bf",
      "metadata": {
        "id": "528678bf"
      },
      "outputs": [],
      "source": [
        "# 8. Find Factorial of a Number\n",
        "def factorial(n):\n",
        "    return 1 if n == 0 else n * factorial(n - 1)"
      ]
    },
    {
      "cell_type": "code",
      "execution_count": null,
      "id": "37aac5db",
      "metadata": {
        "id": "37aac5db"
      },
      "outputs": [],
      "source": [
        "# 9. Find GCD of Two Numbers\n",
        "import math\n",
        "def gcd(a, b):\n",
        "    return math.gcd(a, b)"
      ]
    },
    {
      "cell_type": "code",
      "execution_count": null,
      "id": "d395c037",
      "metadata": {
        "id": "d395c037"
      },
      "outputs": [],
      "source": [
        "# 10. Find the Missing Number in an Array\n",
        "def find_missing(arr, n):\n",
        "    total = n * (n + 1) // 2\n",
        "    return total - sum(arr)"
      ]
    },
    {
      "cell_type": "code",
      "execution_count": null,
      "id": "17a48e5f",
      "metadata": {
        "id": "17a48e5f"
      },
      "outputs": [],
      "source": [
        "# Arrays and Strings Questions"
      ]
    },
    {
      "cell_type": "code",
      "execution_count": null,
      "id": "a827190d",
      "metadata": {
        "id": "a827190d"
      },
      "outputs": [],
      "source": [
        "# Find the Maximum Element in an Array\n",
        "def find_max(arr):\n",
        "    return max(arr)"
      ]
    },
    {
      "cell_type": "code",
      "execution_count": null,
      "id": "30687cce",
      "metadata": {
        "id": "30687cce"
      },
      "outputs": [],
      "source": [
        "# Find the Minimum Element in an Array\n",
        "def find_min(arr):\n",
        "    return min(arr)"
      ]
    },
    {
      "cell_type": "code",
      "execution_count": null,
      "id": "49600fbc",
      "metadata": {
        "id": "49600fbc"
      },
      "outputs": [],
      "source": [
        "# Reverse a String\n",
        "def reverse_string(s):\n",
        "    return s[::-1]"
      ]
    },
    {
      "cell_type": "code",
      "execution_count": null,
      "id": "22766793",
      "metadata": {
        "id": "22766793"
      },
      "outputs": [],
      "source": [
        "# Check if Two Strings are Anagrams\n",
        "def is_anagram(s1, s2):\n",
        "    return sorted(s1) == sorted(s2)"
      ]
    },
    {
      "cell_type": "code",
      "execution_count": null,
      "id": "063fc4bd",
      "metadata": {
        "id": "063fc4bd"
      },
      "outputs": [],
      "source": [
        "# Find the Frequency of Characters in a String\n",
        "def char_frequency(s):\n",
        "    freq = {}\n",
        "    for char in s:\n",
        "        freq[char] = freq.get(char, 0) + 1\n",
        "    return freq"
      ]
    },
    {
      "cell_type": "code",
      "execution_count": null,
      "id": "39e97c8c",
      "metadata": {
        "id": "39e97c8c"
      },
      "outputs": [],
      "source": [
        "# Sorting (Bubble Sort)\n",
        "def bubble_sort(arr):\n",
        "    n = len(arr)\n",
        "    for i in range(n):\n",
        "        for j in range(0, n-i-1):\n",
        "            if arr[j] > arr[j+1]:\n",
        "                arr[j], arr[j+1] = arr[j+1], arr[j]\n",
        "    return arr"
      ]
    },
    {
      "cell_type": "code",
      "execution_count": null,
      "id": "50eb529e",
      "metadata": {
        "id": "50eb529e"
      },
      "outputs": [],
      "source": [
        "# Searching (Binary Search)\n",
        "def binary_search(arr, target):\n",
        "    left, right = 0, len(arr) - 1\n",
        "    while left <= right:\n",
        "        mid = (left + right) // 2\n",
        "        if arr[mid] == target:\n",
        "            return mid\n",
        "        elif arr[mid] < target:\n",
        "            left = mid + 1\n",
        "        else:\n",
        "            right = mid - 1\n",
        "    return -1"
      ]
    },
    {
      "cell_type": "code",
      "execution_count": null,
      "id": "761fed79",
      "metadata": {
        "id": "761fed79"
      },
      "outputs": [],
      "source": [
        "# Stack Implementation using List\n",
        "class Stack:\n",
        "    def __init__(self):\n",
        "        self.stack = []\n",
        "\n",
        "    def push(self, item):\n",
        "        self.stack.append(item)\n",
        "\n",
        "    def pop(self):\n",
        "        return self.stack.pop() if self.stack else \"Stack is empty\"\n",
        "\n",
        "    def peek(self):\n",
        "        return self.stack[-1] if self.stack else \"Stack is empty\"\n",
        "\n",
        "    def is_empty(self):\n",
        "        return len(self.stack) == 0"
      ]
    },
    {
      "cell_type": "code",
      "execution_count": null,
      "id": "c07680f5",
      "metadata": {
        "id": "c07680f5"
      },
      "outputs": [],
      "source": [
        "# Queue Implementation using List\n",
        "class Queue:\n",
        "    def __init__(self):\n",
        "        self.queue = []\n",
        "\n",
        "    def enqueue(self, item):\n",
        "        self.queue.append(item)\n",
        "\n",
        "    def dequeue(self):\n",
        "        return self.queue.pop(0) if self.queue else \"Queue is empty\"\n",
        "\n",
        "    def is_empty(self):\n",
        "        return len(self.queue) == 0"
      ]
    },
    {
      "cell_type": "code",
      "execution_count": null,
      "id": "f6c3b78b",
      "metadata": {
        "id": "f6c3b78b"
      },
      "outputs": [],
      "source": [
        "# Linked List Implementation\n",
        "class Node:\n",
        "    def __init__(self, data):\n",
        "        self.data = data\n",
        "        self.next = None\n",
        "\n",
        "class LinkedList:\n",
        "    def __init__(self):\n",
        "        self.head = None\n",
        "\n",
        "    def insert(self, data):\n",
        "        new_node = Node(data)\n",
        "        new_node.next = self.head\n",
        "        self.head = new_node\n",
        "\n",
        "    def display(self):\n",
        "        temp = self.head\n",
        "        while temp:\n",
        "            print(temp.data, end=\" -> \")\n",
        "            temp = temp.next\n",
        "        print(\"None\")"
      ]
    }
  ],
  "metadata": {
    "colab": {
      "provenance": [],
      "include_colab_link": true
    },
    "language_info": {
      "name": "python"
    },
    "kernelspec": {
      "name": "python3",
      "display_name": "Python 3"
    }
  },
  "nbformat": 4,
  "nbformat_minor": 5
}